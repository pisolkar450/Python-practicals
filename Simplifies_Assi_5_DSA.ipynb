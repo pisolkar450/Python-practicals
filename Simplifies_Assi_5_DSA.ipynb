{
  "nbformat": 4,
  "nbformat_minor": 0,
  "metadata": {
    "colab": {
      "provenance": [],
      "authorship_tag": "ABX9TyPO7mqLgVbM+gc4p8O16Saq",
      "include_colab_link": true
    },
    "kernelspec": {
      "name": "python3",
      "display_name": "Python 3"
    },
    "language_info": {
      "name": "python"
    }
  },
  "cells": [
    {
      "cell_type": "markdown",
      "metadata": {
        "id": "view-in-github",
        "colab_type": "text"
      },
      "source": [
        "<a href=\"https://colab.research.google.com/github/pisolkar450/Python-practicals/blob/main/Simplifies_Assi_5_DSA.ipynb\" target=\"_parent\"><img src=\"https://colab.research.google.com/assets/colab-badge.svg\" alt=\"Open In Colab\"/></a>"
      ]
    },
    {
      "cell_type": "code",
      "execution_count": null,
      "metadata": {
        "colab": {
          "base_uri": "https://localhost:8080/"
        },
        "id": "ikOlZWCHhAYn",
        "outputId": "27c6258b-de43-4eb4-fc66-03188aeff44c"
      },
      "outputs": [
        {
          "output_type": "stream",
          "name": "stdout",
          "text": [
            "1.Linear Search\n",
            "4\n"
          ]
        }
      ],
      "source": [
        "print(\"1.Linear Search\")\n",
        "def LinearSearch(lys, element):\n",
        "  for i in range(len(lys)):\n",
        "    if lys[i]==element:\n",
        "      return i\n",
        "  return -1\n",
        "print(LinearSearch([1,2,3,4,5,2,1],5))"
      ]
    },
    {
      "cell_type": "code",
      "source": [
        "print(\"2.BinarySearch\")\n",
        "def BinarySearch(lys, val):\n",
        "  first=0\n",
        "  last=len(lys)-1\n",
        "  index=-1\n",
        "  while(first<=last)and(index==-1):\n",
        "    mid=(first+last)//2\n",
        "    if lys[mid]==val:\n",
        "      index=mid\n",
        "    else:\n",
        "      if val<lys[mid]:\n",
        "        last=mid-1\n",
        "      else:\n",
        "        first=mid+1\n",
        "  return index\n",
        "print(BinarySearch([10,20,30,40,50],40))"
      ],
      "metadata": {
        "colab": {
          "base_uri": "https://localhost:8080/"
        },
        "id": "tEfWhYqji75K",
        "outputId": "c4f6c209-976a-434c-c401-fe58634e8391"
      },
      "execution_count": null,
      "outputs": [
        {
          "output_type": "stream",
          "name": "stdout",
          "text": [
            "2.BinarySearch\n",
            "3\n"
          ]
        }
      ]
    },
    {
      "cell_type": "code",
      "source": [
        "print(\"3.Bubble Sort\")\n",
        "#Swap the elements to arrange to arange in order\n",
        "def bubblesort(list):\n",
        "  for iter_num in range(len(list)-1,0,-1):\n",
        "    for idx in range(iter_num):\n",
        "      if list[idx]>list[idx+1]:\n",
        "        temp = list[idx]\n",
        "        list[idx]=list[idx+1]\n",
        "        list[idx+1]=temp\n",
        "list=[19,2,31,45,6,11,121,27]\n",
        "bubblesort(list)\n",
        "print(list)"
      ],
      "metadata": {
        "colab": {
          "base_uri": "https://localhost:8080/"
        },
        "id": "Hc04l1ellHSb",
        "outputId": "bb4c52fe-74d0-47f1-d6cd-906f2f4f84b1"
      },
      "execution_count": null,
      "outputs": [
        {
          "output_type": "stream",
          "name": "stdout",
          "text": [
            "3.Bubble Sort\n",
            "[2, 6, 11, 19, 27, 31, 45, 121]\n"
          ]
        }
      ]
    },
    {
      "cell_type": "code",
      "source": [
        "print(\"4.Merge Sort\")\n",
        "print(\"unsorted_list is = [64,34,25,12,22,11,90] \")\n",
        "def merge_sort(unsorted_list):\n",
        "  if len(unsorted_list)<=1:\n",
        "    return unsorted_list\n",
        "#Find the middle point and divide it\n",
        "  middle=len(unsorted_list)//2 #Floor division\n",
        "  left_list=unsorted_list[:middle]\n",
        "  right_list=unsorted_list[middle:]\n",
        "\n",
        "  left_list=merge_sort(left_list)\n",
        "  right_list=merge_sort(right_list)\n",
        "  return list(merge(left_list,right_list))\n",
        "\n",
        "#Merge the sorted halves\n",
        "def merge(left_half,right_half):\n",
        "  res=[]\n",
        "  while len(left_half)!=0 and len(right_half)!=0:\n",
        "    if left_half[0]<right_half[0]:\n",
        "      res.append(left_half[0])\n",
        "      left_half.remove(left_half[0])\n",
        "    else:\n",
        "      res.append(right_half[0])\n",
        "      right_half.remove(right_half[0])\n",
        "  if len(left_half)==0:\n",
        "    res=res+right_half\n",
        "  else:\n",
        "    res=res+left_half\n",
        "  return res\n",
        "unsorted_list=[64,34,25,12,22,11,90]\n",
        "print(merge_sort(unsorted_list))"
      ],
      "metadata": {
        "id": "Fuz4gzdjnqtl",
        "colab": {
          "base_uri": "https://localhost:8080/"
        },
        "outputId": "925fe322-04c4-4c4c-dd1d-50e878c3eab9"
      },
      "execution_count": null,
      "outputs": [
        {
          "output_type": "stream",
          "name": "stdout",
          "text": [
            "4.Merge Sort\n",
            "unsorted_list is = [64,34,25,12,22,11,90] \n",
            "[11, 12, 22, 25, 34, 64, 90]\n"
          ]
        }
      ]
    },
    {
      "cell_type": "code",
      "source": [
        "print(\"5. Insertion Sort\")\n",
        "print(\"array is = [10,11,13,5,6] \")\n",
        "def insertionSort(arr):\n",
        "  if(n:=len(arr))<=1:\n",
        "    return\n",
        "  for i in range(1,n):\n",
        "    key=arr[i]\n",
        "\n",
        "    \"\"\"\n",
        "     Move elements of arr[0..i-1] \n",
        "    greater that key, to one poition ahead\n",
        "    of their currentposition\n",
        "    \"\"\"\n",
        "    j=i-1\n",
        "    while j>=0 and key < arr[j]:\n",
        "      arr[j+1]=arr[j]\n",
        "      j-=1\n",
        "    arr[j+1]=key\n",
        "arr=[10,11,13,5,6]\n",
        "insertionSort(arr)\n",
        "print(arr)"
      ],
      "metadata": {
        "colab": {
          "base_uri": "https://localhost:8080/"
        },
        "id": "hRqUDYfa8MSd",
        "outputId": "8ec5e980-2ee7-450e-ac6c-2eff91316a23"
      },
      "execution_count": null,
      "outputs": [
        {
          "output_type": "stream",
          "name": "stdout",
          "text": [
            "5. Insertion Sort\n",
            "array is = [10,11,13,5,6] \n",
            "[5, 6, 10, 11, 13]\n"
          ]
        }
      ]
    },
    {
      "cell_type": "code",
      "source": [
        "print(\"6. Selection Sort\")\n",
        "print(\"array is = [-2,45,0,11,-9,88,-97,-202,747] \")\n",
        "def selectionSort(array,size):\n",
        "  for ind in range(size):\n",
        "    min_index=ind\n",
        "\n",
        "    for j in range(ind + 1,size):\n",
        "      #select the minimum element in every iteration\n",
        "      if array[j]<array[min_index]:\n",
        "        min_index=j\n",
        "    #swapping the element to sort the array\n",
        "    (array[ind],array[min_index])=(array[min_index],array[ind])\n",
        "array=[-2,45,0,11,-9,88,-97,-202,747]\n",
        "size=len(array)\n",
        "selectionSort(array, size)\n",
        "print(array)"
      ],
      "metadata": {
        "colab": {
          "base_uri": "https://localhost:8080/"
        },
        "id": "-b2L5X2lEzQ7",
        "outputId": "9cf81b79-9078-4c57-c21b-307634c093dc"
      },
      "execution_count": null,
      "outputs": [
        {
          "output_type": "stream",
          "name": "stdout",
          "text": [
            "6. Selection Sort\n",
            "array is = [-2,45,0,11,-9,88,-97,-202,747] \n",
            "[-202, -97, -9, -2, 0, 11, 45, 88, 747]\n"
          ]
        }
      ]
    },
    {
      "cell_type": "code",
      "source": [
        "print(\" 7.Hash Table \")\n",
        "#Declare a Dictionary\n",
        "dict={'Name':'Zara','Age':7,'Class':'First'}\n",
        "#Accessing the dictionary with its key\n",
        "print(\"dict['Name']:,dict['Name']\")\n",
        "print(\"dict['Age']:,dict['Age']\")\n",
        "\n",
        "dict['Age']=8   #updating existing entry\n",
        "dict['School']=\"DPS School\"   #Add new entry\n",
        "print(\"dict['Age']:,dict['Age']\")\n",
        "print(\"dict['School']:,dict['School']\")\n",
        "\n",
        "dict={'Name':'Zara','Age':7,'Class':'First'}\n",
        "#del dict['Name']   #Remove entry with key 'Name'\n",
        "#dict.clear()\n",
        "#del dict\n",
        "#print(\"dict['Age']:,dict['School']\")\n",
        "#print(\"dict['School']:,dict['School']\")\n",
        "print(dict)"
      ],
      "metadata": {
        "colab": {
          "base_uri": "https://localhost:8080/"
        },
        "id": "yfJ055qMHtqh",
        "outputId": "12a4822e-1c17-4246-98d0-f9ed199a0bf6"
      },
      "execution_count": null,
      "outputs": [
        {
          "output_type": "stream",
          "name": "stdout",
          "text": [
            " 7.Hash Table \n",
            "dict['Name']:,dict['Name']\n",
            "dict['Age']:,dict['Age']\n",
            "{'Name': 'Zara', 'Age': 7, 'Class': 'First'}\n"
          ]
        }
      ]
    }
  ]
}